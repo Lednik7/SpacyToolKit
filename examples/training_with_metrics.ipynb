{
  "nbformat": 4,
  "nbformat_minor": 0,
  "metadata": {
    "colab": {
      "name": "training_with_metrics.ipynb",
      "provenance": []
    },
    "kernelspec": {
      "name": "python3",
      "display_name": "Python 3"
    }
  },
  "cells": [
    {
      "cell_type": "code",
      "metadata": {
        "id": "qUCfZ0bpMPL1",
        "colab_type": "code",
        "colab": {}
      },
      "source": [
        "import random\n",
        "random.seed(42)\n",
        "import spacy\n",
        "import pandas as pd\n",
        "import warnings\n",
        "warnings.filterwarnings(\"ignore\")"
      ],
      "execution_count": 1,
      "outputs": []
    },
    {
      "cell_type": "code",
      "metadata": {
        "id": "ZRXjBUkAMbhs",
        "colab_type": "code",
        "colab": {
          "base_uri": "https://localhost:8080/",
          "height": 33
        },
        "outputId": "53e1e8b6-6899-41dd-be19-6bdfec23aa86"
      },
      "source": [
        "from google.colab import drive\n",
        "drive.mount('/content/drive')"
      ],
      "execution_count": 2,
      "outputs": [
        {
          "output_type": "stream",
          "text": [
            "Drive already mounted at /content/drive; to attempt to forcibly remount, call drive.mount(\"/content/drive\", force_remount=True).\n"
          ],
          "name": "stdout"
        }
      ]
    },
    {
      "cell_type": "code",
      "metadata": {
        "id": "YqSFlF60vM9i",
        "colab_type": "code",
        "colab": {}
      },
      "source": [
        "# !git clone https://github.com/Lednik7/SpacyToolKit.git\n",
        "# !python -m pip install -r SpacyToolKit/requirements.txt"
      ],
      "execution_count": 4,
      "outputs": []
    },
    {
      "cell_type": "code",
      "metadata": {
        "id": "rtKJGkcEMwB3",
        "colab_type": "code",
        "colab": {}
      },
      "source": [
        "from SpacyToolKit.formatting.preprocessing_v1 import *"
      ],
      "execution_count": 23,
      "outputs": []
    },
    {
      "cell_type": "code",
      "metadata": {
        "id": "rrIdzraDM5zu",
        "colab_type": "code",
        "colab": {}
      },
      "source": [
        "train = pd.read_csv(\"vacs_train.csv\", sep=\";\")\n",
        "train = train.dropna(subset=[\"description\", \"key_skills\"]).drop_duplicates()[[\"description\", \"key_skills\"]]"
      ],
      "execution_count": 24,
      "outputs": []
    },
    {
      "cell_type": "code",
      "metadata": {
        "id": "Gs17Va7pp88e",
        "colab_type": "code",
        "colab": {
          "base_uri": "https://localhost:8080/",
          "height": 191
        },
        "outputId": "93574424-631d-4557-e4d1-e155ec260c89"
      },
      "source": [
        "train.head()"
      ],
      "execution_count": 25,
      "outputs": [
        {
          "output_type": "execute_result",
          "data": {
            "text/html": [
              "<div>\n",
              "<style scoped>\n",
              "    .dataframe tbody tr th:only-of-type {\n",
              "        vertical-align: middle;\n",
              "    }\n",
              "\n",
              "    .dataframe tbody tr th {\n",
              "        vertical-align: top;\n",
              "    }\n",
              "\n",
              "    .dataframe thead th {\n",
              "        text-align: right;\n",
              "    }\n",
              "</style>\n",
              "<table border=\"1\" class=\"dataframe\">\n",
              "  <thead>\n",
              "    <tr style=\"text-align: right;\">\n",
              "      <th></th>\n",
              "      <th>description</th>\n",
              "      <th>key_skills</th>\n",
              "    </tr>\n",
              "  </thead>\n",
              "  <tbody>\n",
              "    <tr>\n",
              "      <th>8</th>\n",
              "      <td>Обязанности:  Составление сметы по ремонтно-от...</td>\n",
              "      <td>Ответственность | Коммуникабельность</td>\n",
              "    </tr>\n",
              "    <tr>\n",
              "      <th>9</th>\n",
              "      <td>В сеть магазинов детской и подростковой обуви ...</td>\n",
              "      <td>Консультативные продажи | Активные продажи | 1...</td>\n",
              "    </tr>\n",
              "    <tr>\n",
              "      <th>16</th>\n",
              "      <td>Менеджер по продажам грузовых шин.Вакансия тол...</td>\n",
              "      <td>Активные продажи | Холодные продажи | Работа в...</td>\n",
              "    </tr>\n",
              "    <tr>\n",
              "      <th>17</th>\n",
              "      <td>Менеджер по работе с клиентамиТребования:  хол...</td>\n",
              "      <td>Холодные звонки | Холодные продажи | Ведение п...</td>\n",
              "    </tr>\n",
              "    <tr>\n",
              "      <th>18</th>\n",
              "      <td>Менеджер по продажам грузовых шин.Вакансия тол...</td>\n",
              "      <td>Активные продажи | Холодные продажи | Работа в...</td>\n",
              "    </tr>\n",
              "  </tbody>\n",
              "</table>\n",
              "</div>"
            ],
            "text/plain": [
              "                                          description                                         key_skills\n",
              "8   Обязанности:  Составление сметы по ремонтно-от...               Ответственность | Коммуникабельность\n",
              "9   В сеть магазинов детской и подростковой обуви ...  Консультативные продажи | Активные продажи | 1...\n",
              "16  Менеджер по продажам грузовых шин.Вакансия тол...  Активные продажи | Холодные продажи | Работа в...\n",
              "17  Менеджер по работе с клиентамиТребования:  хол...  Холодные звонки | Холодные продажи | Ведение п...\n",
              "18  Менеджер по продажам грузовых шин.Вакансия тол...  Активные продажи | Холодные продажи | Работа в..."
            ]
          },
          "metadata": {
            "tags": []
          },
          "execution_count": 25
        }
      ]
    },
    {
      "cell_type": "code",
      "metadata": {
        "id": "BfnePkufl5yn",
        "colab_type": "code",
        "colab": {
          "base_uri": "https://localhost:8080/",
          "height": 33
        },
        "outputId": "74e53ad5-020b-487e-aaf0-1c35c26caec3"
      },
      "source": [
        "print(f\"Number of data: {len(train)}\")"
      ],
      "execution_count": 26,
      "outputs": [
        {
          "output_type": "stream",
          "text": [
            "Number of data: 20169\n"
          ],
          "name": "stdout"
        }
      ]
    },
    {
      "cell_type": "code",
      "metadata": {
        "id": "y1Y_3BZMM_a4",
        "colab_type": "code",
        "colab": {}
      },
      "source": [
        "desc = train.description.to_list()\n",
        "skill = train.key_skills.to_list()"
      ],
      "execution_count": 27,
      "outputs": []
    },
    {
      "cell_type": "code",
      "metadata": {
        "id": "HSAywOjxNG1n",
        "colab_type": "code",
        "colab": {
          "base_uri": "https://localhost:8080/",
          "height": 33
        },
        "outputId": "2613df48-e1fe-415e-93b1-4396665d11d7"
      },
      "source": [
        "TRAIN_DATA = preprocessing(desc, skill, \"Skills\")\n",
        "TRAIN_DATA = choice(delete_None(TRAIN_DATA), 6) #6 - number of entities"
      ],
      "execution_count": 28,
      "outputs": [
        {
          "output_type": "stream",
          "text": [
            "100%|██████████| 20169/20169 [00:01<00:00, 15559.31it/s]\n"
          ],
          "name": "stderr"
        }
      ]
    },
    {
      "cell_type": "code",
      "metadata": {
        "id": "Z8_iUfp_miQ9",
        "colab_type": "code",
        "colab": {
          "base_uri": "https://localhost:8080/",
          "height": 33
        },
        "outputId": "057f973e-e2fb-4d57-be46-84f5ce51fd40"
      },
      "source": [
        "print(f\"Number of data for training: {len(TRAIN_DATA)}\")"
      ],
      "execution_count": 29,
      "outputs": [
        {
          "output_type": "stream",
          "text": [
            "Number of data for training: 526\n"
          ],
          "name": "stdout"
        }
      ]
    },
    {
      "cell_type": "code",
      "metadata": {
        "id": "f0QrBwcsnKaC",
        "colab_type": "code",
        "colab": {}
      },
      "source": [
        "def create_blank(TRAIN_DATA):\n",
        "  nlp = spacy.blank(\"en\")\n",
        "  ner = nlp.create_pipe(\"ner\")\n",
        "  nlp.add_pipe(ner, last=True)\n",
        "\n",
        "  for _, annotations in TRAIN_DATA:\n",
        "      for ent in annotations.get('entities'):\n",
        "          ner.add_label(ent[2])\n",
        "  return nlp, ner"
      ],
      "execution_count": 30,
      "outputs": []
    },
    {
      "cell_type": "code",
      "metadata": {
        "id": "U0XVRkmLnlhV",
        "colab_type": "code",
        "colab": {}
      },
      "source": [
        "nlp, ner = create_blank(TRAIN_DATA)"
      ],
      "execution_count": 31,
      "outputs": []
    },
    {
      "cell_type": "code",
      "metadata": {
        "id": "ZPpmLyt4ocjb",
        "colab_type": "code",
        "colab": {}
      },
      "source": [
        "def begin_training(nlp, TRAIN_DATA, n_iter=1):\n",
        "  basket = []\n",
        "  other_pipes = [pipe for pipe in nlp.pipe_names if pipe != 'ner']\n",
        "\n",
        "  with nlp.disable_pipes(*other_pipes):\n",
        "      optimizer = nlp.begin_training()\n",
        "      for itn in range(n_iter):\n",
        "          print(\"\\n Iterations:\", itn+1)\n",
        "          random.shuffle(TRAIN_DATA)\n",
        "          losses = {}\n",
        "\n",
        "          for text, annotations in tqdm(TRAIN_DATA):\n",
        "            try:\n",
        "              nlp.update(\n",
        "                  [text],  # batch of texts\n",
        "                  [annotations],  # batch of annotations\n",
        "                  drop=0.5,  # dropout - make it harder to memorise data\n",
        "                  sgd=optimizer,  # callable to update weights\n",
        "                  losses=losses)\n",
        "              \n",
        "              basket.append((text, annotations))\n",
        "            except:\n",
        "              pass\n",
        "          print(f\"\\n Losses: {losses}\")\n",
        "\n",
        "  print(\"Done\")\n",
        "  return nlp, basket"
      ],
      "execution_count": 32,
      "outputs": []
    },
    {
      "cell_type": "code",
      "metadata": {
        "id": "kQKZa4-dWgK2",
        "colab_type": "code",
        "colab": {
          "base_uri": "https://localhost:8080/",
          "height": 115
        },
        "outputId": "54996810-73e8-480a-e6c5-2433d02e3372"
      },
      "source": [
        "basket = begin_training(nlp, TRAIN_DATA, 1)[1]"
      ],
      "execution_count": 33,
      "outputs": [
        {
          "output_type": "stream",
          "text": [
            "  0%|          | 2/526 [00:00<00:50, 10.32it/s]"
          ],
          "name": "stderr"
        },
        {
          "output_type": "stream",
          "text": [
            "\n",
            " Iterations: 1\n"
          ],
          "name": "stdout"
        },
        {
          "output_type": "stream",
          "text": [
            "100%|██████████| 526/526 [00:54<00:00,  9.61it/s]"
          ],
          "name": "stderr"
        },
        {
          "output_type": "stream",
          "text": [
            "\n",
            " Losses: {'ner': 8540.893973494269}\n",
            "Done\n"
          ],
          "name": "stdout"
        },
        {
          "output_type": "stream",
          "text": [
            "\n"
          ],
          "name": "stderr"
        }
      ]
    },
    {
      "cell_type": "code",
      "metadata": {
        "id": "qHoPYT3l1RiA",
        "colab_type": "code",
        "colab": {}
      },
      "source": [
        "from sklearn.model_selection import train_test_split\n",
        "Train, Test = train_test_split(basket, test_size=0.33, random_state=42)"
      ],
      "execution_count": 34,
      "outputs": []
    },
    {
      "cell_type": "code",
      "metadata": {
        "id": "a752bsEulcW8",
        "colab_type": "code",
        "colab": {
          "base_uri": "https://localhost:8080/",
          "height": 277
        },
        "outputId": "c2520b19-4219-45df-a614-e56d513860fd"
      },
      "source": [
        "model = begin_training(nlp, Train, 3)[0]"
      ],
      "execution_count": 35,
      "outputs": [
        {
          "output_type": "stream",
          "text": [
            "  0%|          | 1/339 [00:00<00:44,  7.64it/s]"
          ],
          "name": "stderr"
        },
        {
          "output_type": "stream",
          "text": [
            "\n",
            " Iterations: 1\n"
          ],
          "name": "stdout"
        },
        {
          "output_type": "stream",
          "text": [
            "100%|██████████| 339/339 [00:37<00:00,  9.15it/s]\n",
            "  1%|          | 2/339 [00:00<00:31, 10.61it/s]"
          ],
          "name": "stderr"
        },
        {
          "output_type": "stream",
          "text": [
            "\n",
            " Losses: {'ner': 3498.9621085440453}\n",
            "\n",
            " Iterations: 2\n"
          ],
          "name": "stdout"
        },
        {
          "output_type": "stream",
          "text": [
            "100%|██████████| 339/339 [00:36<00:00,  9.20it/s]\n",
            "  0%|          | 1/339 [00:00<00:52,  6.40it/s]"
          ],
          "name": "stderr"
        },
        {
          "output_type": "stream",
          "text": [
            "\n",
            " Losses: {'ner': 3111.8867971641907}\n",
            "\n",
            " Iterations: 3\n"
          ],
          "name": "stdout"
        },
        {
          "output_type": "stream",
          "text": [
            "100%|██████████| 339/339 [00:37<00:00,  9.13it/s]"
          ],
          "name": "stderr"
        },
        {
          "output_type": "stream",
          "text": [
            "\n",
            " Losses: {'ner': 3208.3077564661453}\n",
            "Done\n"
          ],
          "name": "stdout"
        },
        {
          "output_type": "stream",
          "text": [
            "\n"
          ],
          "name": "stderr"
        }
      ]
    },
    {
      "cell_type": "code",
      "metadata": {
        "id": "2u7vz8PjjDy2",
        "colab_type": "code",
        "colab": {}
      },
      "source": [
        "def show(train):\n",
        "  lst = []\n",
        "  for i in train[1][\"entities\"]:\n",
        "    lst.append(train[0][i[0]:i[1]])\n",
        "  return lst"
      ],
      "execution_count": 36,
      "outputs": []
    },
    {
      "cell_type": "markdown",
      "metadata": {
        "id": "dDcCZCNo5X6h",
        "colab_type": "text"
      },
      "source": [
        "**Our metrics:** mean(intersection/union) * 100\n",
        "\n",
        "---\n",
        "\n"
      ]
    },
    {
      "cell_type": "code",
      "metadata": {
        "id": "PH9YArcqlPTC",
        "colab_type": "code",
        "colab": {}
      },
      "source": [
        "metrics = []\n",
        "for text, annotations in Test:\n",
        "    doc = model(text)\n",
        "    predictions = set([(ent.text) for ent in doc.ents])\n",
        "    y = set(show((text, annotations)))\n",
        "    metrics.append(\n",
        "        (len(predictions.intersection(y))) / (len(predictions.union(y)))\n",
        "    )\n",
        "    \"\"\"print('Entities: ', predictions)\n",
        "    print(y)\n",
        "    print(\"-\"*100)\"\"\""
      ],
      "execution_count": 37,
      "outputs": []
    },
    {
      "cell_type": "code",
      "metadata": {
        "id": "WtkBUCgslaGh",
        "colab_type": "code",
        "colab": {
          "base_uri": "https://localhost:8080/",
          "height": 33
        },
        "outputId": "9397e324-2e8b-4509-d0fd-763ea9b45d91"
      },
      "source": [
        "import numpy as np\n",
        "score = np.mean(metrics)\n",
        "print(f\"Score: {score*100}\")"
      ],
      "execution_count": 38,
      "outputs": [
        {
          "output_type": "stream",
          "text": [
            "Score: 46.167260898710644\n"
          ],
          "name": "stdout"
        }
      ]
    }
  ]
}