{
  "nbformat": 4,
  "nbformat_minor": 0,
  "metadata": {
    "colab": {
      "name": "training.ipynb",
      "provenance": [],
      "collapsed_sections": []
    },
    "kernelspec": {
      "name": "python3",
      "display_name": "Python 3"
    }
  },
  "cells": [
    {
      "cell_type": "code",
      "metadata": {
        "colab": {
          "base_uri": "https://localhost:8080/"
        },
        "id": "GO9TV9CqPQRT",
        "outputId": "81ce6fd8-9534-43fc-bacc-049070768721"
      },
      "source": [
        "from google.colab import drive\r\n",
        "drive.mount('/content/drive')\r\n",
        "import os\r\n",
        "try:\r\n",
        "  os.chdir(\"./drive/My Drive/SpacyToolKit\")\r\n",
        "except: pass\r\n",
        "#  проверяем наличие файлов\r\n",
        "directory = os.listdir()\r\n",
        "directory"
      ],
      "execution_count": 17,
      "outputs": [
        {
          "output_type": "stream",
          "text": [
            "Drive already mounted at /content/drive; to attempt to forcibly remount, call drive.mount(\"/content/drive\", force_remount=True).\n"
          ],
          "name": "stdout"
        },
        {
          "output_type": "execute_result",
          "data": {
            "text/plain": [
              "['0.ipynb', 'SpacyToolKit', 'resume_train.csv', 'vacs_train_5000.csv']"
            ]
          },
          "metadata": {
            "tags": []
          },
          "execution_count": 17
        }
      ]
    },
    {
      "cell_type": "code",
      "metadata": {
        "id": "jEnXju6xPhCu"
      },
      "source": [
        "if \"SpacyToolKit\" not in directory:\r\n",
        "    !git clone https://github.com/Lednik7/SpacyToolKit.git"
      ],
      "execution_count": 18,
      "outputs": []
    },
    {
      "cell_type": "code",
      "metadata": {
        "colab": {
          "base_uri": "https://localhost:8080/",
          "height": 202
        },
        "id": "jzN-1vSjQ5Ek",
        "outputId": "c1bbb367-48a7-4dd4-f5bb-9b985eab5acc"
      },
      "source": [
        "import pandas as pd\r\n",
        "df = pd.read_csv(\"vacs_train_5000.csv\")[:100]\r\n",
        "df.head()"
      ],
      "execution_count": 23,
      "outputs": [
        {
          "output_type": "execute_result",
          "data": {
            "text/html": [
              "<div>\n",
              "<style scoped>\n",
              "    .dataframe tbody tr th:only-of-type {\n",
              "        vertical-align: middle;\n",
              "    }\n",
              "\n",
              "    .dataframe tbody tr th {\n",
              "        vertical-align: top;\n",
              "    }\n",
              "\n",
              "    .dataframe thead th {\n",
              "        text-align: right;\n",
              "    }\n",
              "</style>\n",
              "<table border=\"1\" class=\"dataframe\">\n",
              "  <thead>\n",
              "    <tr style=\"text-align: right;\">\n",
              "      <th></th>\n",
              "      <th>description</th>\n",
              "      <th>key_skills</th>\n",
              "    </tr>\n",
              "  </thead>\n",
              "  <tbody>\n",
              "    <tr>\n",
              "      <th>0</th>\n",
              "      <td>Обязанности:  Составление сметы по ремонтно-от...</td>\n",
              "      <td>Ответственность | Коммуникабельность</td>\n",
              "    </tr>\n",
              "    <tr>\n",
              "      <th>1</th>\n",
              "      <td>В сеть магазинов детской и подростковой обуви ...</td>\n",
              "      <td>Консультативные продажи | Активные продажи | 1...</td>\n",
              "    </tr>\n",
              "    <tr>\n",
              "      <th>2</th>\n",
              "      <td>Менеджер по работе с клиентамиТребования:  хол...</td>\n",
              "      <td>Холодные звонки | Холодные продажи | Ведение п...</td>\n",
              "    </tr>\n",
              "    <tr>\n",
              "      <th>3</th>\n",
              "      <td>«1С:Северо-Запад» - официальный представител...</td>\n",
              "      <td>Работа в команде | 1С: Документооборот | 1С: П...</td>\n",
              "    </tr>\n",
              "    <tr>\n",
              "      <th>4</th>\n",
              "      <td>Компания ООО \"1С:Бухобслуживание. Региональный...</td>\n",
              "      <td>Активные продажи | Навыки презентации | Поиск ...</td>\n",
              "    </tr>\n",
              "  </tbody>\n",
              "</table>\n",
              "</div>"
            ],
            "text/plain": [
              "                                         description                                         key_skills\n",
              "0  Обязанности:  Составление сметы по ремонтно-от...               Ответственность | Коммуникабельность\n",
              "1  В сеть магазинов детской и подростковой обуви ...  Консультативные продажи | Активные продажи | 1...\n",
              "2  Менеджер по работе с клиентамиТребования:  хол...  Холодные звонки | Холодные продажи | Ведение п...\n",
              "3    «1С:Северо-Запад» - официальный представител...  Работа в команде | 1С: Документооборот | 1С: П...\n",
              "4  Компания ООО \"1С:Бухобслуживание. Региональный...  Активные продажи | Навыки презентации | Поиск ..."
            ]
          },
          "metadata": {
            "tags": []
          },
          "execution_count": 23
        }
      ]
    },
    {
      "cell_type": "code",
      "metadata": {
        "id": "kKbIYwwsRb1Q"
      },
      "source": [
        "from SpacyToolKit import separator\r\n",
        "from SpacyToolKit.utils import preprocessing\r\n",
        "from SpacyToolKit.training import create_blank, begin_training\r\n",
        "from SpacyToolKit.model_selection import train_test_val_split\r\n",
        "from SpacyToolKit.metrics import evaluate"
      ],
      "execution_count": 117,
      "outputs": []
    },
    {
      "cell_type": "code",
      "metadata": {
        "colab": {
          "base_uri": "https://localhost:8080/"
        },
        "id": "bGd4CHBiRx3s",
        "outputId": "f21056ef-cb97-4c16-98ef-5a6970ab0061"
      },
      "source": [
        "y = separator(df[\"key_skills\"], sep=\" | \")\r\n",
        "X = df[\"description\"]\r\n",
        "#  coef регулирует долю всех возможных values из key_skills(елси all_tasks=True)\r\n",
        "#  При coef = 1 используются все values, это сильно сказывается на времени выполнения\r\n",
        "train = preprocessing(X, y, \"Skills\", coef=1, all_tasks=False)"
      ],
      "execution_count": 122,
      "outputs": [
        {
          "output_type": "stream",
          "text": [
            "100%|██████████| 100/100 [00:00<00:00, 1263.12it/s]"
          ],
          "name": "stderr"
        },
        {
          "output_type": "stream",
          "text": [
            "\n",
            "\u001b[31mcoef is ignored because you are using all_tasks=False\n"
          ],
          "name": "stdout"
        },
        {
          "output_type": "stream",
          "text": [
            "\n"
          ],
          "name": "stderr"
        }
      ]
    },
    {
      "cell_type": "code",
      "metadata": {
        "colab": {
          "base_uri": "https://localhost:8080/"
        },
        "id": "oTTfa1N8S9xP",
        "outputId": "60023e40-f5dc-432a-fa0b-36a1ace65d21"
      },
      "source": [
        "Train, Test, Val = train_test_val_split(train)\r\n",
        "nlp, ner = create_blank(Train, lang=\"en\") #  создадим пустой шаблон\r\n",
        "#  будем сохранять модель после каждой итерации\r\n",
        "nlp = begin_training(nlp, Train, Val, n_iter=2, save_iter=True)"
      ],
      "execution_count": 123,
      "outputs": [
        {
          "output_type": "stream",
          "text": [
            "\r  0%|          | 0/40 [00:00<?, ?it/s]"
          ],
          "name": "stderr"
        },
        {
          "output_type": "stream",
          "text": [
            "\n",
            "\u001b[32mSave models to ./iterations/\u001b[0m\n",
            "\u001b[31m\n",
            "Iterations: 1\u001b[0m\n"
          ],
          "name": "stdout"
        },
        {
          "output_type": "stream",
          "text": [
            "100%|██████████| 40/40 [00:03<00:00, 10.99it/s]\n",
            "  0%|          | 0/40 [00:00<?, ?it/s]"
          ],
          "name": "stderr"
        },
        {
          "output_type": "stream",
          "text": [
            "\n",
            "{'Skills': {'p': 0.0, 'r': 0.0, 'f': 0.0}}\n",
            "Losses: {'ner': 1898.8229281974204}\n",
            "\u001b[31m\n",
            "Iterations: 2\u001b[0m\n"
          ],
          "name": "stdout"
        },
        {
          "output_type": "stream",
          "text": [
            "100%|██████████| 40/40 [00:03<00:00, 11.64it/s]\n"
          ],
          "name": "stderr"
        },
        {
          "output_type": "stream",
          "text": [
            "\n",
            "{'Skills': {'p': 0.0, 'r': 0.0, 'f': 0.0}}\n",
            "Losses: {'ner': 184.91926496245287}\n",
            "\u001b[32mDone\u001b[0m\n"
          ],
          "name": "stdout"
        }
      ]
    },
    {
      "cell_type": "code",
      "metadata": {
        "colab": {
          "base_uri": "https://localhost:8080/"
        },
        "id": "9NxlgGS0b6sx",
        "outputId": "944c0119-c6ae-4840-bc0b-786a310ad839"
      },
      "source": [
        "# f - f1 score\r\n",
        "# p - precision\r\n",
        "# r - recall\r\n",
        "evaluate(nlp, Test)"
      ],
      "execution_count": 124,
      "outputs": [
        {
          "output_type": "execute_result",
          "data": {
            "text/plain": [
              "{'Skills': {'f': 0.0, 'p': 0.0, 'r': 0.0}}"
            ]
          },
          "metadata": {
            "tags": []
          },
          "execution_count": 124
        }
      ]
    }
  ]
}