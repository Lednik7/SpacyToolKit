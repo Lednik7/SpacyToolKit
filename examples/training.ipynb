{
  "nbformat": 4,
  "nbformat_minor": 0,
  "metadata": {
    "colab": {
      "name": "training.ipynb",
      "provenance": []
    },
    "kernelspec": {
      "name": "python3",
      "display_name": "Python 3"
    }
  },
  "cells": [
    {
      "cell_type": "code",
      "metadata": {
        "id": "ACNwl2NUneKq",
        "colab_type": "code",
        "colab": {}
      },
      "source": [
        "from __future__ import unicode_literals, print_function\n",
        "import plac #  wrapper over argparse\n",
        "import random\n",
        "from pathlib import Path\n",
        "import spacy\n",
        "import pandas as pd\n",
        "import numpy as np"
      ],
      "execution_count": 3,
      "outputs": []
    },
    {
      "cell_type": "code",
      "metadata": {
        "id": "zTrX_M4kV0fz",
        "colab_type": "code",
        "colab": {
          "base_uri": "https://localhost:8080/",
          "height": 736
        },
        "outputId": "b015a9a4-0d01-4288-dcf3-f89de1adf8ef"
      },
      "source": [
        "!git clone https://github.com/Lednik7/SpacyToolKit.git\n",
        "!python -m pip install -r SpacyToolKit/requirements.txt"
      ],
      "execution_count": 6,
      "outputs": [
        {
          "output_type": "stream",
          "text": [
            "Cloning into 'SpacyToolKit'...\n",
            "remote: Enumerating objects: 107, done.\u001b[K\n",
            "remote: Counting objects: 100% (107/107), done.\u001b[K\n",
            "remote: Compressing objects: 100% (104/104), done.\u001b[K\n",
            "remote: Total 107 (delta 55), reused 0 (delta 0), pack-reused 0\u001b[K\n",
            "Receiving objects: 100% (107/107), 31.46 KiB | 441.00 KiB/s, done.\n",
            "Resolving deltas: 100% (55/55), done.\n",
            "Requirement already satisfied: spacy==2.3.0 in /usr/local/lib/python3.6/dist-packages (from -r SpacyToolKit/requirements.txt (line 1)) (2.3.0)\n",
            "Requirement already satisfied: googletrans==3.0.0 in /usr/local/lib/python3.6/dist-packages (from -r SpacyToolKit/requirements.txt (line 2)) (3.0.0)\n",
            "Requirement already satisfied: pymorphy2==0.8 in /usr/local/lib/python3.6/dist-packages (from -r SpacyToolKit/requirements.txt (line 3)) (0.8)\n",
            "Requirement already satisfied: preshed<3.1.0,>=3.0.2 in /usr/local/lib/python3.6/dist-packages (from spacy==2.3.0->-r SpacyToolKit/requirements.txt (line 1)) (3.0.2)\n",
            "Requirement already satisfied: blis<0.5.0,>=0.4.0 in /usr/local/lib/python3.6/dist-packages (from spacy==2.3.0->-r SpacyToolKit/requirements.txt (line 1)) (0.4.1)\n",
            "Requirement already satisfied: thinc==7.4.1 in /usr/local/lib/python3.6/dist-packages (from spacy==2.3.0->-r SpacyToolKit/requirements.txt (line 1)) (7.4.1)\n",
            "Requirement already satisfied: requests<3.0.0,>=2.13.0 in /usr/local/lib/python3.6/dist-packages (from spacy==2.3.0->-r SpacyToolKit/requirements.txt (line 1)) (2.23.0)\n",
            "Requirement already satisfied: numpy>=1.15.0 in /usr/local/lib/python3.6/dist-packages (from spacy==2.3.0->-r SpacyToolKit/requirements.txt (line 1)) (1.18.5)\n",
            "Requirement already satisfied: catalogue<1.1.0,>=0.0.7 in /usr/local/lib/python3.6/dist-packages (from spacy==2.3.0->-r SpacyToolKit/requirements.txt (line 1)) (1.0.0)\n",
            "Requirement already satisfied: murmurhash<1.1.0,>=0.28.0 in /usr/local/lib/python3.6/dist-packages (from spacy==2.3.0->-r SpacyToolKit/requirements.txt (line 1)) (1.0.2)\n",
            "Requirement already satisfied: setuptools in /usr/local/lib/python3.6/dist-packages (from spacy==2.3.0->-r SpacyToolKit/requirements.txt (line 1)) (49.2.0)\n",
            "Requirement already satisfied: tqdm<5.0.0,>=4.38.0 in /usr/local/lib/python3.6/dist-packages (from spacy==2.3.0->-r SpacyToolKit/requirements.txt (line 1)) (4.41.1)\n",
            "Requirement already satisfied: plac<1.2.0,>=0.9.6 in /usr/local/lib/python3.6/dist-packages (from spacy==2.3.0->-r SpacyToolKit/requirements.txt (line 1)) (1.1.3)\n",
            "Requirement already satisfied: wasabi<1.1.0,>=0.4.0 in /usr/local/lib/python3.6/dist-packages (from spacy==2.3.0->-r SpacyToolKit/requirements.txt (line 1)) (0.7.1)\n",
            "Requirement already satisfied: srsly<1.1.0,>=1.0.2 in /usr/local/lib/python3.6/dist-packages (from spacy==2.3.0->-r SpacyToolKit/requirements.txt (line 1)) (1.0.2)\n",
            "Requirement already satisfied: cymem<2.1.0,>=2.0.2 in /usr/local/lib/python3.6/dist-packages (from spacy==2.3.0->-r SpacyToolKit/requirements.txt (line 1)) (2.0.3)\n",
            "Requirement already satisfied: httpx==0.13.3 in /usr/local/lib/python3.6/dist-packages (from googletrans==3.0.0->-r SpacyToolKit/requirements.txt (line 2)) (0.13.3)\n",
            "Requirement already satisfied: docopt>=0.6 in /usr/local/lib/python3.6/dist-packages (from pymorphy2==0.8->-r SpacyToolKit/requirements.txt (line 3)) (0.6.2)\n",
            "Requirement already satisfied: pymorphy2-dicts<3.0,>=2.4 in /usr/local/lib/python3.6/dist-packages (from pymorphy2==0.8->-r SpacyToolKit/requirements.txt (line 3)) (2.4.393442.3710985)\n",
            "Requirement already satisfied: dawg-python>=0.7 in /usr/local/lib/python3.6/dist-packages (from pymorphy2==0.8->-r SpacyToolKit/requirements.txt (line 3)) (0.7.2)\n",
            "Requirement already satisfied: idna<3,>=2.5 in /usr/local/lib/python3.6/dist-packages (from requests<3.0.0,>=2.13.0->spacy==2.3.0->-r SpacyToolKit/requirements.txt (line 1)) (2.10)\n",
            "Requirement already satisfied: urllib3!=1.25.0,!=1.25.1,<1.26,>=1.21.1 in /usr/local/lib/python3.6/dist-packages (from requests<3.0.0,>=2.13.0->spacy==2.3.0->-r SpacyToolKit/requirements.txt (line 1)) (1.24.3)\n",
            "Requirement already satisfied: certifi>=2017.4.17 in /usr/local/lib/python3.6/dist-packages (from requests<3.0.0,>=2.13.0->spacy==2.3.0->-r SpacyToolKit/requirements.txt (line 1)) (2020.6.20)\n",
            "Requirement already satisfied: chardet<4,>=3.0.2 in /usr/local/lib/python3.6/dist-packages (from requests<3.0.0,>=2.13.0->spacy==2.3.0->-r SpacyToolKit/requirements.txt (line 1)) (3.0.4)\n",
            "Requirement already satisfied: importlib-metadata>=0.20; python_version < \"3.8\" in /usr/local/lib/python3.6/dist-packages (from catalogue<1.1.0,>=0.0.7->spacy==2.3.0->-r SpacyToolKit/requirements.txt (line 1)) (1.7.0)\n",
            "Requirement already satisfied: rfc3986<2,>=1.3 in /usr/local/lib/python3.6/dist-packages (from httpx==0.13.3->googletrans==3.0.0->-r SpacyToolKit/requirements.txt (line 2)) (1.4.0)\n",
            "Requirement already satisfied: hstspreload in /usr/local/lib/python3.6/dist-packages (from httpx==0.13.3->googletrans==3.0.0->-r SpacyToolKit/requirements.txt (line 2)) (2020.8.12)\n",
            "Requirement already satisfied: sniffio in /usr/local/lib/python3.6/dist-packages (from httpx==0.13.3->googletrans==3.0.0->-r SpacyToolKit/requirements.txt (line 2)) (1.1.0)\n",
            "Requirement already satisfied: httpcore==0.9.* in /usr/local/lib/python3.6/dist-packages (from httpx==0.13.3->googletrans==3.0.0->-r SpacyToolKit/requirements.txt (line 2)) (0.9.1)\n",
            "Requirement already satisfied: zipp>=0.5 in /usr/local/lib/python3.6/dist-packages (from importlib-metadata>=0.20; python_version < \"3.8\"->catalogue<1.1.0,>=0.0.7->spacy==2.3.0->-r SpacyToolKit/requirements.txt (line 1)) (3.1.0)\n",
            "Requirement already satisfied: contextvars>=2.1; python_version < \"3.7\" in /usr/local/lib/python3.6/dist-packages (from sniffio->httpx==0.13.3->googletrans==3.0.0->-r SpacyToolKit/requirements.txt (line 2)) (2.4)\n",
            "Requirement already satisfied: h2==3.* in /usr/local/lib/python3.6/dist-packages (from httpcore==0.9.*->httpx==0.13.3->googletrans==3.0.0->-r SpacyToolKit/requirements.txt (line 2)) (3.2.0)\n",
            "Requirement already satisfied: h11<0.10,>=0.8 in /usr/local/lib/python3.6/dist-packages (from httpcore==0.9.*->httpx==0.13.3->googletrans==3.0.0->-r SpacyToolKit/requirements.txt (line 2)) (0.9.0)\n",
            "Requirement already satisfied: immutables>=0.9 in /usr/local/lib/python3.6/dist-packages (from contextvars>=2.1; python_version < \"3.7\"->sniffio->httpx==0.13.3->googletrans==3.0.0->-r SpacyToolKit/requirements.txt (line 2)) (0.14)\n",
            "Requirement already satisfied: hpack<4,>=3.0 in /usr/local/lib/python3.6/dist-packages (from h2==3.*->httpcore==0.9.*->httpx==0.13.3->googletrans==3.0.0->-r SpacyToolKit/requirements.txt (line 2)) (3.0.0)\n",
            "Requirement already satisfied: hyperframe<6,>=5.2.0 in /usr/local/lib/python3.6/dist-packages (from h2==3.*->httpcore==0.9.*->httpx==0.13.3->googletrans==3.0.0->-r SpacyToolKit/requirements.txt (line 2)) (5.2.0)\n"
          ],
          "name": "stdout"
        }
      ]
    },
    {
      "cell_type": "code",
      "metadata": {
        "id": "G4iaZUjMXfhP",
        "colab_type": "code",
        "colab": {}
      },
      "source": [
        "from SpacyToolKit.formatting.preprocessing_v2 import *"
      ],
      "execution_count": 18,
      "outputs": []
    },
    {
      "cell_type": "code",
      "metadata": {
        "id": "L6N3DGkCknJx",
        "colab_type": "code",
        "colab": {}
      },
      "source": [
        "train = pd.read_csv(\"train.csv\")"
      ],
      "execution_count": 24,
      "outputs": []
    },
    {
      "cell_type": "code",
      "metadata": {
        "id": "vtH6kgmRmegF",
        "colab_type": "code",
        "colab": {}
      },
      "source": [
        "desc = train.description.to_list()\n",
        "skill = train.key_skills.to_list()"
      ],
      "execution_count": 22,
      "outputs": []
    },
    {
      "cell_type": "code",
      "metadata": {
        "id": "hVD8JsoXm9cG",
        "colab_type": "code",
        "colab": {
          "base_uri": "https://localhost:8080/",
          "height": 33
        },
        "outputId": "2926bca8-de61-43ae-e914-df578981a54a"
      },
      "source": [
        "#предобработаем данные\n",
        "TRAIN_DATA = preprocessing(desc, skill, \"Skills\")\n",
        "TRAIN_DATA = choice(delete_None(TRAIN_DATA))"
      ],
      "execution_count": 23,
      "outputs": [
        {
          "output_type": "stream",
          "text": [
            "100%|██████████| 17954/17954 [00:09<00:00, 1879.22it/s]\n"
          ],
          "name": "stderr"
        }
      ]
    },
    {
      "cell_type": "code",
      "metadata": {
        "id": "d3nFVTeDnHoB",
        "colab_type": "code",
        "colab": {
          "base_uri": "https://localhost:8080/",
          "height": 175
        },
        "outputId": "8c8b3afc-4682-488b-f78b-419bb8dbfbc0"
      },
      "source": [
        "def main():\n",
        "    model = (\"Model name. Defaults to blank 'en' model.\", \"option\", \"m\", str),\n",
        "    output_dir = (\".\", \"option\", \"o\", Path),\n",
        "    n_iter = (1, \"option\", \"n\", int)\n",
        "plac.call(main)"
      ],
      "execution_count": 20,
      "outputs": [
        {
          "output_type": "stream",
          "text": [
            "usage: ipykernel_launcher.py [-h]\n",
            "ipykernel_launcher.py: error: unrecognized arguments: -f /root/.local/share/jupyter/runtime/kernel-472ec05b-7aaf-4cf4-90f6-651f33accf5b.json\n"
          ],
          "name": "stderr"
        },
        {
          "output_type": "error",
          "ename": "SystemExit",
          "evalue": "ignored",
          "traceback": [
            "An exception has occurred, use %tb to see the full traceback.\n",
            "\u001b[0;31mSystemExit\u001b[0m\u001b[0;31m:\u001b[0m 2\n"
          ]
        },
        {
          "output_type": "stream",
          "text": [
            "/usr/local/lib/python3.6/dist-packages/IPython/core/interactiveshell.py:2890: UserWarning: To exit: use 'exit', 'quit', or Ctrl-D.\n",
            "  warn(\"To exit: use 'exit', 'quit', or Ctrl-D.\", stacklevel=1)\n"
          ],
          "name": "stderr"
        }
      ]
    },
    {
      "cell_type": "code",
      "metadata": {
        "id": "aqup_hUMnVIx",
        "colab_type": "code",
        "colab": {}
      },
      "source": [
        "#создадим модель и её pipe\n",
        "nlp = spacy.load(\"en\")\n",
        "n_iter=1\n",
        "\n",
        "if 'ner' not in nlp.pipe_names:\n",
        "    ner = nlp.create_pipe('ner')\n",
        "    nlp.add_pipe(ner, last=True)\n",
        "else:\n",
        "    ner = nlp.get_pipe('ner')"
      ],
      "execution_count": null,
      "outputs": []
    },
    {
      "cell_type": "code",
      "metadata": {
        "id": "Z-yotHFonx6Q",
        "colab_type": "code",
        "colab": {
          "base_uri": "https://localhost:8080/",
          "height": 66
        },
        "outputId": "39f4ec19-ddca-46fd-bb6f-db7bc40d0f34"
      },
      "source": [
        "#отберем те данные, что пригодны для модели, а также примерно расчитаем время выполнения одной итерации\n",
        "basket = []\n",
        "for _, annotations in TRAIN_DATA:\n",
        "    for ent in annotations.get('entities'):\n",
        "        ner.add_label(ent[2])\n",
        "\n",
        "other_pipes = [pipe for pipe in nlp.pipe_names if pipe != 'ner']\n",
        "with nlp.disable_pipes(*other_pipes):  # only train NER\n",
        "    optimizer = nlp.begin_training()\n",
        "    for itn in range(1):\n",
        "        print(\"\\n\", itn + 1)\n",
        "        random.shuffle(TRAIN_DATA)\n",
        "        losses = {}\n",
        "        for text, annotations in tqdm(TRAIN_DATA):\n",
        "          try:\n",
        "            nlp.update(\n",
        "                [text],  # batch of texts\n",
        "                [annotations],  # batch of annotations\n",
        "                drop=0.5,  # dropout - make it harder to memorise data\n",
        "                sgd=optimizer,  # callable to update weights\n",
        "                losses=losses)\n",
        "            \n",
        "            basket.append((text, annotations))\n",
        "          except:\n",
        "            pass\n",
        "        print(losses)"
      ],
      "execution_count": null,
      "outputs": [
        {
          "output_type": "stream",
          "text": [
            "  0%|          | 1/3065 [00:00<06:13,  8.20it/s]"
          ],
          "name": "stderr"
        },
        {
          "output_type": "stream",
          "text": [
            "1\n"
          ],
          "name": "stdout"
        },
        {
          "output_type": "stream",
          "text": [
            "100%|██████████| 3065/3065 [05:35<00:00,  9.14it/s]"
          ],
          "name": "stderr"
        },
        {
          "output_type": "stream",
          "text": [
            "{'ner': 25141.63619172928}\n"
          ],
          "name": "stdout"
        },
        {
          "output_type": "stream",
          "text": [
            "\n"
          ],
          "name": "stderr"
        }
      ]
    },
    {
      "cell_type": "code",
      "metadata": {
        "id": "eVisCWk0xZHJ",
        "colab_type": "code",
        "colab": {
          "base_uri": "https://localhost:8080/",
          "height": 33
        },
        "outputId": "1c294bee-94b6-4c78-9856-01cd6ed9b975"
      },
      "source": [
        "len(basket)"
      ],
      "execution_count": null,
      "outputs": [
        {
          "output_type": "execute_result",
          "data": {
            "text/plain": [
              "2994"
            ]
          },
          "metadata": {
            "tags": []
          },
          "execution_count": 15
        }
      ]
    },
    {
      "cell_type": "code",
      "metadata": {
        "id": "Q0SkTEFbp4Kt",
        "colab_type": "code",
        "colab": {}
      },
      "source": [
        "#сбросим веса\n",
        "nlp = spacy.load(\"en\")\n",
        "n_iter=5\n",
        "\n",
        "if 'ner' not in nlp.pipe_names:\n",
        "    ner = nlp.create_pipe('ner')\n",
        "    nlp.add_pipe(ner, last=True)\n",
        "else:\n",
        "    ner = nlp.get_pipe('ner')"
      ],
      "execution_count": null,
      "outputs": []
    },
    {
      "cell_type": "code",
      "metadata": {
        "id": "9QRa_MxqqDKD",
        "colab_type": "code",
        "colab": {}
      },
      "source": [
        "TRAIN_DATA = basket"
      ],
      "execution_count": null,
      "outputs": []
    },
    {
      "cell_type": "code",
      "metadata": {
        "id": "gFCyK2QIpV9U",
        "colab_type": "code",
        "colab": {
          "base_uri": "https://localhost:8080/",
          "height": 180
        },
        "outputId": "1d894be4-9451-465c-c528-cff641aa7b5a"
      },
      "source": [
        "# Обучаем модель\n",
        "for _, annotations in TRAIN_DATA:\n",
        "    for ent in annotations.get('entities'):\n",
        "        ner.add_label(ent[2])\n",
        "\n",
        "other_pipes = [pipe for pipe in nlp.pipe_names if pipe != 'ner']\n",
        "with nlp.disable_pipes(*other_pipes):  # only train NER\n",
        "    optimizer = nlp.begin_training()\n",
        "    for itn in range(n_iter):\n",
        "        random.shuffle(TRAIN_DATA)\n",
        "        losses = {}\n",
        "        for text, annotations in tqdm(TRAIN_DATA, mininterval=10):\n",
        "            nlp.update(\n",
        "                [text],  # batch of texts\n",
        "                [annotations],  # batch of annotations\n",
        "                drop=0.5,  # dropout - make it harder to memorise data\n",
        "                sgd=optimizer,  # callable to update weights\n",
        "                losses=losses)\n",
        "            \n",
        "        \n",
        "        print(losses)"
      ],
      "execution_count": null,
      "outputs": [
        {
          "output_type": "stream",
          "text": [
            "100%|██████████| 2994/2994 [05:23<00:00,  9.26it/s]\n",
            "  0%|          | 0/2994 [00:00<?, ?it/s]"
          ],
          "name": "stderr"
        },
        {
          "output_type": "stream",
          "text": [
            "{'ner': 25193.94714230446}\n"
          ],
          "name": "stdout"
        },
        {
          "output_type": "stream",
          "text": [
            "100%|██████████| 2994/2994 [05:28<00:00,  9.11it/s]\n",
            "  0%|          | 0/2994 [00:00<?, ?it/s]"
          ],
          "name": "stderr"
        },
        {
          "output_type": "stream",
          "text": [
            "{'ner': 21069.44967105342}\n"
          ],
          "name": "stdout"
        },
        {
          "output_type": "stream",
          "text": [
            "100%|██████████| 2994/2994 [05:30<00:00,  9.07it/s]\n",
            "  0%|          | 0/2994 [00:00<?, ?it/s]"
          ],
          "name": "stderr"
        },
        {
          "output_type": "stream",
          "text": [
            "{'ner': 20339.325111051978}\n"
          ],
          "name": "stdout"
        },
        {
          "output_type": "stream",
          "text": [
            "100%|██████████| 2994/2994 [05:27<00:00,  9.13it/s]\n",
            "  0%|          | 0/2994 [00:00<?, ?it/s]"
          ],
          "name": "stderr"
        },
        {
          "output_type": "stream",
          "text": [
            "{'ner': 19586.341195105095}\n"
          ],
          "name": "stdout"
        },
        {
          "output_type": "stream",
          "text": [
            "100%|██████████| 2994/2994 [05:30<00:00,  9.06it/s]"
          ],
          "name": "stderr"
        },
        {
          "output_type": "stream",
          "text": [
            "{'ner': 19106.9390943734}\n"
          ],
          "name": "stdout"
        },
        {
          "output_type": "stream",
          "text": [
            "\n"
          ],
          "name": "stderr"
        }
      ]
    },
    {
      "cell_type": "code",
      "metadata": {
        "id": "xHjeC2rOC9Cw",
        "colab_type": "code",
        "colab": {}
      },
      "source": [
        "def show(train):\n",
        "  a = []\n",
        "  for i in train[1][\"entities\"]:\n",
        "    a.append(train[0][i[0]:i[1]])\n",
        "  return a"
      ],
      "execution_count": null,
      "outputs": []
    },
    {
      "cell_type": "code",
      "metadata": {
        "id": "DPvUgxyY1xo0",
        "colab_type": "code",
        "colab": {
          "base_uri": "https://localhost:8080/",
          "height": 1000
        },
        "outputId": "be550952-b71b-4de3-9479-13cd92afe4e5"
      },
      "source": [
        "#тестируем модель\n",
        "from sklearn.metrics import accuracy_score\n",
        "for text, b in TRAIN_DATA[:100]:\n",
        "    doc = nlp(text)\n",
        "    print('Entities', [(ent.text) for ent in doc.ents], \" | \", show((text, b)))"
      ],
      "execution_count": null,
      "outputs": [
        {
          "output_type": "stream",
          "text": [
            "Entities ['iOS', 'iOS', 'Objective-C', 'iOS', 'OpenGL']  |  ['iOS', 'iOS', 'iOS', 'Objective-C']\n",
            "Entities ['PHP7', 'Javascript', 'jQuery', 'MySQL', 'Redis', 'Elasticsearch', 'Linux', 'PHP', 'Git', 'Git', 'Javascript', 'jQuery', 'MySQL', 'Redis', 'Elasticsearch', 'Linux', 'PHP', 'Git', 'Git']  |  ['Git', 'Redis', 'Javascript', 'Javascript', 'MySQL', 'Redis', 'PHP', 'Git', 'MySQL', 'PHP', 'Git', 'Git', 'PHP', 'PHP']\n",
            "Entities ['JavaScript', 'Node.js', 'Big Data', 'Google Material', 'PostgreSQL', 'MongoDB', 'JavaScript', 'JavaScript']  |  ['Node.js', 'JavaScript', 'JavaScript', 'JavaScript', 'PostgreSQL', 'MongoDB']\n",
            "Entities ['Google Adwords', 'Google Analytics', 'Google Analytics']  |  ['Google Analytics', 'Google Analytics', 'Google Adwords']\n",
            "Entities ['Коммуникабельность', 'грамотная речь']  |  ['маникюр', 'маникюр', 'педикюр', 'педикюр']\n",
            "Entities ['SOA']  |  ['AWS Elastic Beanstalk', 'CloudFormation', 'Amazon Web Services', 'Docker', 'Docker', 'Docker', 'remote work', 'Crossover', 'Docker', 'Docker', 'Aurora', 'work from home', 'Crossover', 'WORK FROM HOME', 'Docker', 'Aurora', 'Docker', 'Aurora', 'Docker', 'docker']\n",
            "Entities ['HTML', 'JavaScript', 'Python', 'Java']  |  ['JavaScript', 'Unity', 'HTML']\n",
            "Entities ['Entity Framework', 'Node.js', 'MS SQL', 'ASP.NET', 'ASP.NET', 'HTML', 'CSS', 'Entity Framework', 'JavaScript', 'jQuery', 'Git']  |  ['Bootstrap', 'JavaScript', 'HTML', 'ASP.NET', 'ASP.NET']\n",
            "Entities ['СОУТ', 'СОУТ', 'СОУТ', 'пользователь ПК', 'MS Windows']  |  ['высокая самоорганизованность', 'исполнительность', 'Ответственность', 'аккуратность']\n",
            "Entities ['ведение переговоров', 'деловая переписка', 'пользователь ПК']  |  ['пользователь ПК', 'деловая переписка', 'ведение переговоров']\n",
            "Entities ['PHP', 'MySQL', 'MongoDB', 'JavaScript', 'jQuery']  |  ['Redis', 'noSQL', 'MySQL', 'NoSQL', 'PHP', 'PHP', 'Memcached', 'MySQL']\n",
            "Entities ['Ответственность', '1С-Битрикс', 'пользователь ПК']  |  ['E-commerce', 'e-commerce', 'пользователь ПК', '1С: торговля']\n",
            "Entities ['iOS', 'iOS', 'Objective-C', 'Swift', 'iOS', 'Core Data', 'Core Graphics', 'Git']  |  ['Swift', 'JIRA', 'Git', 'Git', 'Agile', 'iOS', 'iOS', 'iOS', 'Objective-C', 'Swift']\n",
            "Entities ['Linux', 'Python', 'Git']  |  ['Linux', 'тестирование', 'Jenkins', 'Python', 'Git', 'Squish', 'Redmine']\n",
            "Entities ['пользователь ПК', 'ЕСКД', 'ГОСТ']  |  ['Компас 3D', 'ЕСКД', 'ГОСТ']\n",
            "Entities ['Node.', 'JavaScript', 'jQuery', 'CSS', 'ООП']  |  ['JavaScript', 'Node.JS', 'jQuery', 'WebRTC', 'ООП', 'HTML']\n",
            "Entities ['CSS', 'Git', 'AngularJS', 'SPA framework']  |  ['CSS', 'AngularJS', 'HTML']\n",
            "Entities []  |  ['столяр', 'столяр', 'столяр']\n",
            "Entities ['Linux', 'Linux', 'bash', 'Linux', 'STL', 'boost']  |  ['boost', 'Linux', 'STL', 'Linux', 'Unix API', 'Linux']\n",
            "Entities ['Google Analytics', 'CSS', 'Visual Website', 'Google Analytics', 'Google BigQuery']  |  ['Google Analytics', 'Google Analytics', 'Google BigQuery', 'веб-аналитика']\n",
            "Entities ['заключение договоров', 'грамотная речь']  |  ['участие в тендерах', 'заключение договоров', 'тендеры', 'грамотная речь']\n",
            "Entities ['MySQL', 'PHP', 'MySQL', 'HTML', 'CSS', 'jQuery', 'Yii']  |  ['CSS', 'Yii', 'HTML', 'PHP', 'MySQL', 'Yii', 'MySQL', 'Yii']\n",
            "Entities ['Яндекс.', 'Google AdWords', 'Google Analytics', 'Яндекс.', 'Google Analytics', 'Яндекс.']  |  ['Google AdWords', 'Яндекс.Метрика', 'Яндекс.Директ', 'Google Analytics', 'Google Analytics', 'Яндекс.Директ']\n",
            "Entities ['iOS', 'IOS', 'Swift', 'Objective-C', 'iOS', 'iOS', 'git']  |  ['Swift', 'Objective-C', 'iOS', 'iOS', 'iOS', 'SDK', 'git', 'IOS', 'iOS']\n",
            "Entities ['STL', 'Boost', 'ООП']  |  ['STL', 'Boost', 'ATL']\n",
            "Entities ['коммуникабельность']  |  ['выдача автомобиля', 'Ведение клиентской базы', 'Консультирование клиентов']\n",
            "Entities ['VoIP', 'VoIP', 'VoIP', 'VoIP', 'Linux', 'MS Windows', 'TCP/IP', 'VoIP', 'SDP']  |  ['VoIP', 'VoIP', 'VoIP', 'VoIP', 'VoIP', 'Linux', 'SIP']\n",
            "Entities ['Клиентоориентированность', 'Стрессоустойчивость', 'Коммуникабельность']  |  ['обучаемость', 'Коммуникабельность', 'Стрессоустойчивость', 'business travel', 'Внимательность', 'Онлайн бронирование', 'Клиентоориентированность']\n",
            "Entities ['UI', 'Java', 'PostgreSQL', 'Java']  |  ['Java', 'Java', 'PostgreSQL']\n",
            "Entities ['ЕСКД']  |  ['Макетирование', 'РЭА', 'Макетирование']\n",
            "Entities ['подбор персонала', 'пользователь ПК']  |  ['стрессоустойчивость', 'подбор персонала', 'коммуникативные навыки']\n",
            "Entities ['ВЭД', 'ВЭД']  |  ['ведение книги продаж', 'Банк-клиент', 'ведение книги продаж', 'Банк-клиент']\n",
            "Entities ['MySQL', 'MySQL', 'MySQL', 'Linux', 'Perl', 'Bash', 'PHP', 'Active Record', 'GIT', 'MySQL', 'MySQL']  |  ['HaProxy', 'MySQL', 'Percona Toolkit', 'MaxScale', 'MySQL', 'MySQL', 'PHP', 'InnoDB', 'MySQL', 'ProxySQL', 'GIT', 'XtraBackup', 'Linux', 'Percona XtraDb Cluster', 'Percona Monitoring & Management', 'Percona XtraDb Cluster', 'базы данных', 'MySQL']\n",
            "Entities ['коммуникативные навыки', 'Стрессоустойчивость']  |  ['Доброжелательность', 'коммуникативные навыки', 'Стрессоустойчивость']\n",
            "Entities ['Ведение переговоров', 'Проведение презентаций', 'Заключение договоров', 'пользователь ПК', 'грамотная речь']  |  ['Ведение переговоров', 'Заключение договоров', 'Проведение презентаций']\n",
            "Entities ['iOS', 'Swift', 'Objective-C', 'Objective-C', 'Swift', 'iOS', 'iOS', 'WebView', 'iOS', 'iOS']  |  ['WebView', 'CoreGraphics', 'Foundation', 'Swift', 'CoreData', 'Human Interfaces Guidelines', 'Objective-C', 'iOS SDK', 'CoreGraphics', 'Objective-C', 'Swift']\n",
            "Entities ['React.js', 'Node.js', 'React']  |  ['React.js', 'ES6', 'MobX', 'React.js', 'MobX', 'ES7', 'ES6', 'ES7', 'Linux']\n",
            "Entities ['PHP', 'php', 'PostgreSQL']  |  ['PHP', 'PostgreSQL', 'php', 'laravel']\n",
            "Entities ['SMM', 'Google Analytics', 'SMM']  |  ['SMM', 'Интернет Маркетинг', 'SMM', 'Интернет маркетинг']\n",
            "Entities ['React', 'JavaScript', 'React']  |  ['React', 'React', 'ES2015', 'Redux', 'Gulp', 'WebPack', 'JavaScript', 'Redux']\n",
            "Entities ['пользователь ПК']  |  ['пользователь ПК', 'Монтаж оборудования', 'Знание основ автоэлектрики']\n",
            "Entities ['пользователь ПК', 'грамотная речь']  |  ['ответственность', 'пользователь ПК', 'грамотная речь']\n",
            "Entities ['PHP', 'MySQL', 'Javascript', 'Laravel']  |  ['MySQL', 'Laravel', 'Laravel', 'Javascript', 'PHP']\n",
            "Entities ['AutoCAD', 'ГОСТ']  |  ['AutoCAD', 'СНиП', 'ГОСТ']\n",
            "Entities ['Linux', 'mysql', 'MySQL', 'BGP', 'nginx', 'Juniper']  |  ['nginx', 'FreeBSD', 'FreeBSD', 'mysql', 'MySQL', 'nginx']\n",
            "Entities ['Написание текстов', 'Написание текстов', 'Написание текстов']  |  ['Написание текстов', 'Написание текстов', 'Написание текстов']\n",
            "Entities ['Заключение договоров', 'пользователь ПК']  |  ['ведение переговоров', 'Заключение договоров', 'поиск и привлечение клиентов']\n",
            "Entities ['Ответственность', 'Тактичность']  |  ['Ответственность', 'знание города', 'Уверенный стиль вождения', 'Тактичность']\n",
            "Entities ['телефонные переговоры', 'пользователь ПК']  |  ['пользователь ПК', 'CRM', 'телефонные переговоры']\n",
            "Entities ['1С: Предприятие']  |  ['1С: Предприятие 8', 'CRM', '1С: Предприятие 8']\n",
            "Entities ['заключение договоров']  |  ['работа с возражениями', 'заключение договоров', 'ведение переговоров']\n",
            "Entities ['грамотная речь']  |  ['коммуникабельность', 'Ведение отчетности', 'стрессоустойчивость', 'грамотная речь', 'ответственность']\n",
            "Entities ['Английский язык', 'Грамотная речь', 'пользователь ПК']  |  ['туроператор', 'туроператор', 'туроператор', 'туроператор', 'Грамотная речь']\n",
            "Entities ['QT', 'STL', 'Qt', 'Boost', 'Qt']  |  ['Qt', 'QT', 'STL', 'Qt']\n",
            "Entities ['Доброжелательность', 'стрессоустойчивость', 'Iiko']  |  ['Работа с кассой', 'Умение работать в команде', 'стрессоустойчивость']\n",
            "Entities ['Linux', 'Python', 'Bash', 'Git', 'KVM', 'MySQL', 'PostgreSQL']  |  ['Git', 'MySQL', 'Puppet', 'Python', 'KVM', 'Bash', 'PostgreSQL', 'NoSQL']\n",
            "Entities []  |  ['работа в команде', 'мерчендайзинг', 'мерчендайзинг']\n",
            "Entities ['PHP', 'Yii', 'ООП', 'SQL', 'PostgreSQL', 'git', 'Symfony', 'Bootstrap', 'jQuery', 'HTML5', 'CSS3']  |  ['git', 'HTML5', 'Yii', 'PostgreSQL', 'PHP']\n",
            "Entities ['Доброжелательность', 'наращивание ногтей']  |  ['исполнительность', 'Доброжелательность', 'пунктуальность']\n",
            "Entities ['ответственность', 'PR', 'PR', 'PR', 'PR', 'Деловая переписка', 'Google docs', 'SMM']  |  ['Написание пресс-релизов', 'PR', 'PR', 'PR', 'PR']\n",
            "Entities ['html', 'HTML', 'SEO', 'пользователь ПК', 'SEO', 'Яндекс Директ', 'Google Adwords']  |  ['HTML', 'html', 'Яндекс Директ', 'Google Adwords']\n",
            "Entities ['AutoCAD', 'ЕСКД', 'ГОСТ']  |  ['AutoCAD', 'ГОСТ', 'ЕСКД']\n",
            "Entities ['Яндекс Директ', 'Google AdWords', 'Яндекс Метрика', 'Google Analytics', 'Яндекс Метрика', 'Google Analytics', 'Яндекс Директ', 'Google AdWords']  |  ['Google Analytics', 'Яндекс Метрика', 'Яндекс Метрика', 'Google AdWords', 'Google AdWords', 'Google Analytics', 'Яндекс Директ', 'Яндекс Директ']\n",
            "Entities ['Яндекс.', 'Яндекс.']  |  ['Яндекс.Метрика', 'Яндекс.Метрика', 'лидогенерация']\n",
            "Entities ['Delphi', 'Delphi', 'CRM', 'Лидерские качества', 'организаторские навыки', 'Delphi']  |  ['Delphi', 'Delphi', 'delphi', 'Delphi', 'CRM', 'CRM']\n",
            "Entities ['Linux', 'Linux', 'bash', 'python', 'git']  |  ['bash', 'zabbix', 'python', 'git', 'nagios']\n",
            "Entities ['PHP', 'CMS Wordpress', 'PHP5', 'MySQL', 'HTML', 'CSS', 'JavaScript', 'jQuery', 'AJAX', 'ООП', 'MVC', 'Git']  |  ['MVC', 'MySQL', 'Git', 'CMS Wordpress', 'PHP5', 'ООП']\n",
            "Entities ['python', 'iOS', 'Python', 'Git', 'JavaScript', 'AngularJS', 'jQuery', 'Bootstrap', 'PostgreSQL']  |  ['jQuery', 'PostgreSQL', 'python', 'REST', 'Git', 'Bootstrap', 'REST', 'Python']\n",
            "Entities ['документооборот', 'документооборот', 'грамотная речь']  |  ['документооборот', 'документооборот', 'документооборот', 'грамотная речь']\n",
            "Entities ['английский язык', 'Стрессоустойчивость', 'грамотная речь']  |  ['английский язык', 'клиентоориентированность', 'грамотная речь']\n",
            "Entities ['Лидерские качества', 'холодные звонки']  |  ['CRM', 'CRM', 'CRM', 'холодные звонки']\n",
            "Entities ['PHP', '1С-Битрикс', '1С-Битрикс', 'MySQL', 'Ajax', 'CSS', 'git']  |  ['1С-Битрикс', '1С-Битрикс', 'PHP', 'ответственность', 'CSS', 'HTML', 'PHP', 'MySQL']\n",
            "Entities ['Python', 'Python', 'ООП', 'PostgreSQL', 'git', 'javascript', 'python', 'php', 'Redis']  |  ['python', 'Python', 'git', 'PostgreSQL', 'Python']\n",
            "Entities ['Честность', 'стрессоустойчивость']  |  ['Честность', 'пунктуальность', 'ответственность', 'стрессоустойчивость']\n",
            "Entities ['холодные звонки']  |  ['В2С', 'В2В', 'В2В', 'проведение встреч']\n",
            "Entities ['Яндекс-Директ', 'Google Adwords', 'Яндекс-Метрика', 'Google Analytics', 'Яндекс-Директ', 'Google Adwords', 'Яндекс-Директ', 'Google Adwords', 'Яндекс-Метрика', 'Google Analytics', 'Яндекс-Директ', 'Google Adwords', 'Яндекс-Метрика', 'Google Analytics']  |  ['Яндекс-Директ', 'Яндекс-Метрика', 'Яндекс-Метрика', 'Оптимизация рекламных кампаний', 'Яндекс-Директ', 'Яндекс-Директ', 'Яндекс-Директ', 'Яндекс-Метрика']\n",
            "Entities ['PHP', 'ООП', 'MySQL', 'JavaScript', 'jQuery', '1С-Битрикс', 'GIT', 'Linux', 'LESS']  |  ['ООП', 'LESS', 'JavaScript', '1С-Битрикс', 'SASS', 'GIT', 'jQuery', 'MVC', 'Ajax']\n",
            "Entities ['PHP', 'Perl', 'Mysql']  |  ['Perl', 'Mysql', 'Linux', 'Redis', 'PHP', 'Nginx']\n",
            "Entities ['холодные звонки', 'ведение переговоров', 'холодные звонки', 'ведение переговоров']  |  ['ведение переговоров', 'ведение переговоров', 'холодные звонки', 'холодные звонки']\n",
            "Entities ['BTL', 'BTL', 'BTL', 'Обучение персонала', 'BTL', 'Управление проектами', 'управление персоналом', 'Обучение персонала', 'Деловая коммуникация', 'пользователь ПК']  |  ['BTL', 'Деловая коммуникация', 'Управление проектами', 'BTL', 'BTL', 'BTL', 'BTL']\n",
            "Entities ['Ведение переговоров', 'Проведение презентаций', 'пользователь ПК']  |  ['Ведение переговоров', 'Развитие продаж', 'Проведение презентаций']\n",
            "Entities ['TCP/IP', 'git', 'Linux', 'TCP/IP', 'git', 'Linux']  |  ['RabbitMQ', 'Openstack', 'REST', 'SQL', 'TCP/IP', 'Linux', 'Linux', 'HTTP', 'REST', 'RabbitMQ', 'Openstack', 'HTTP', 'SQL', 'TCP/IP']\n",
            "Entities ['HTML', 'HTML5', 'CSS3', 'Javascript', 'jQuery', 'bootstrap']  |  ['Javascript', 'HTML', 'CSS', 'HTML', 'jQuery', 'CSS']\n",
            "Entities ['Java EE', 'JBoss', 'PostgreSQL', 'Git', 'Jquery', 'ООП']  |  ['Java EE', 'PostgreSQL', 'ООП', 'Jquery']\n",
            "Entities ['Magento', 'PHP', 'Zend Framework', 'MySQL', 'git', 'Magento']  |  ['git', 'MySQL', 'Zend Framework', 'Magento', 'Magento']\n",
            "Entities ['CMS Битрикс', 'PHP', 'MySQL', 'JQuery', 'AJAX', 'CSS', 'XML', 'CRM']  |  ['MySQL', 'JQuery', 'XML', 'AJAX', 'CSS', 'HTML', 'PHP']\n",
            "Entities ['iOS', 'iOS']  |  ['Android', 'iOS', 'Android', 'iOS']\n",
            "Entities ['Документооборот']  |  ['MS Office', 'Документооборот', 'Search', 'Ценообразование', 'Бюджетирование', 'Договорная работа', 'документооборот']\n",
            "Entities ['ответственность', 'коммуникативные навыки', 'CRM']  |  ['коммуникативные навыки', 'CRM', 'Работа с претензиями']\n",
            "Entities ['квалификация']  |  ['честность', 'ответственность', 'аналитический склад ума', 'грамотность', 'проактивность', 'ответственность']\n",
            "Entities ['копирайтинг', 'HTML', 'Яндекс.', 'Adobe Photoshop', 'Adobe Dreamweaver']  |  ['SEO-копирайтинг', 'продвижение сайтов', 'Adobe Photoshop', 'HTML', 'HTML', 'администрирование сайтов', 'верстка', 'Яндекс.Директ', 'CSS']\n",
            "Entities ['пользователь ПК', 'Исполнительность']  |  ['Исполнительность', 'внимательность', 'Внимательность']\n",
            "Entities ['C#', 'ASP.NET', 'ASP.NET', 'MVC', 'JavaScript', 'jQuery', 'AngularJS', 'C#', 'ASP.NET', 'ASP.NET', 'Entity Framework', 'WPF', 'MS SQL Server', 'JavaScript', 'jQuery', 'AngularJS']  |  ['JavaScript', 'Entity Framework', 'JavaScript', 'ASP.NET', 'jQuery', 'ASP.NET', 'ASP.NET', 'C#', 'WPF', 'jQuery', 'MS SQL Server', 'ASP.NET', 'C#']\n",
            "Entities ['PHP', 'PHP', 'Python', 'MySQL', 'Linux', 'Golang', 'PHP', 'Python']  |  ['Go', 'RabbitMQ', 'MySQL', 'Go', 'Linux', 'RabbitMQ']\n",
            "Entities ['Windows Server', 'MS SQL', 'Active Directory', 'Golang', 'Java', 'MS SQL', 'PostgreSQL', 'Active Directory', 'WIndows Server']  |  ['Golang', 'Active Directory', 'MQ', 'Golang', 'MQ', 'Java', 'MS SQL', 'PostgreSQL', 'Active Directory', 'MS SQL']\n",
            "Entities ['ответственность', 'исполнительность']  |  ['Отчетность', 'мерчендайзинг', 'отчетность']\n",
            "Entities ['ASP.NET', 'C#', 'C#']  |  ['ASP.NET', 'C#', 'C#']\n",
            "Entities ['C#', 'Objective-C']  |  ['Java', 'C#', 'Unity', 'SVN']\n",
            "Entities ['PHP', 'JavaScript', 'PHP', 'UX', 'PHP', 'ООП', 'MySQL', 'MS SQL', 'Google AdWords']  |  ['Linux', 'PHP', 'CSS', 'PHP', 'git', 'PHP', 'MODx', 'ООП']\n",
            "Entities ['пользователь ПК', 'Документооборот']  |  ['1С: Документооборот', 'пользователь ПК', 'MS Office']\n"
          ],
          "name": "stdout"
        }
      ]
    },
    {
      "cell_type": "code",
      "metadata": {
        "id": "8UIew6HhqNUB",
        "colab_type": "code",
        "colab": {}
      },
      "source": [
        "#сохраняем модель\n",
        "nlp.to_disc(\"path\")"
      ],
      "execution_count": null,
      "outputs": []
    }
  ]
}